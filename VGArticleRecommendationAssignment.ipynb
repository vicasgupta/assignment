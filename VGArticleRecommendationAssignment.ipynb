{
 "cells": [
  {
   "cell_type": "markdown",
   "metadata": {},
   "source": [
    "# Assignment | Article Recommendation \n",
    "### By Vikas Gupta"
   ]
  },
  {
   "cell_type": "markdown",
   "metadata": {},
   "source": [
    "#### Import the required libs"
   ]
  },
  {
   "cell_type": "code",
   "execution_count": 1,
   "metadata": {},
   "outputs": [],
   "source": [
    "import pandas as pd\n",
    "import numpy as np"
   ]
  },
  {
   "cell_type": "markdown",
   "metadata": {},
   "source": [
    "#### Load the dataset"
   ]
  },
  {
   "cell_type": "code",
   "execution_count": 2,
   "metadata": {},
   "outputs": [
    {
     "data": {
      "text/html": [
       "<div>\n",
       "<style scoped>\n",
       "    .dataframe tbody tr th:only-of-type {\n",
       "        vertical-align: middle;\n",
       "    }\n",
       "\n",
       "    .dataframe tbody tr th {\n",
       "        vertical-align: top;\n",
       "    }\n",
       "\n",
       "    .dataframe thead th {\n",
       "        text-align: right;\n",
       "    }\n",
       "</style>\n",
       "<table border=\"1\" class=\"dataframe\">\n",
       "  <thead>\n",
       "    <tr style=\"text-align: right;\">\n",
       "      <th></th>\n",
       "      <th>user_id</th>\n",
       "      <th>article_id</th>\n",
       "      <th>rating</th>\n",
       "    </tr>\n",
       "  </thead>\n",
       "  <tbody>\n",
       "    <tr>\n",
       "      <td>0</td>\n",
       "      <td>1</td>\n",
       "      <td>456</td>\n",
       "      <td>1</td>\n",
       "    </tr>\n",
       "    <tr>\n",
       "      <td>1</td>\n",
       "      <td>1</td>\n",
       "      <td>2934</td>\n",
       "      <td>1</td>\n",
       "    </tr>\n",
       "    <tr>\n",
       "      <td>2</td>\n",
       "      <td>1</td>\n",
       "      <td>82</td>\n",
       "      <td>1</td>\n",
       "    </tr>\n",
       "    <tr>\n",
       "      <td>3</td>\n",
       "      <td>1</td>\n",
       "      <td>1365</td>\n",
       "      <td>1</td>\n",
       "    </tr>\n",
       "    <tr>\n",
       "      <td>4</td>\n",
       "      <td>1</td>\n",
       "      <td>221</td>\n",
       "      <td>1</td>\n",
       "    </tr>\n",
       "  </tbody>\n",
       "</table>\n",
       "</div>"
      ],
      "text/plain": [
       "   user_id  article_id  rating\n",
       "0        1         456       1\n",
       "1        1        2934       1\n",
       "2        1          82       1\n",
       "3        1        1365       1\n",
       "4        1         221       1"
      ]
     },
     "execution_count": 2,
     "metadata": {},
     "output_type": "execute_result"
    }
   ],
   "source": [
    "df = pd.read_csv('train-201102-092914.csv')\n",
    "df.head()"
   ]
  },
  {
   "cell_type": "markdown",
   "metadata": {},
   "source": [
    "## Some EDA"
   ]
  },
  {
   "cell_type": "code",
   "execution_count": 3,
   "metadata": {},
   "outputs": [
    {
     "name": "stdout",
     "output_type": "stream",
     "text": [
      "Total Number of 16731 records and 3 variables present in the dataset\n"
     ]
    }
   ],
   "source": [
    "# Size\n",
    "print(f'Total Number of {df.shape[0]} records and {df.shape[1]} variables present in the dataset')"
   ]
  },
  {
   "cell_type": "code",
   "execution_count": 4,
   "metadata": {},
   "outputs": [
    {
     "name": "stdout",
     "output_type": "stream",
     "text": [
      "<class 'pandas.core.frame.DataFrame'>\n",
      "RangeIndex: 16731 entries, 0 to 16730\n",
      "Data columns (total 3 columns):\n",
      "user_id       16731 non-null int64\n",
      "article_id    16731 non-null int64\n",
      "rating        16731 non-null int64\n",
      "dtypes: int64(3)\n",
      "memory usage: 392.3 KB\n"
     ]
    }
   ],
   "source": [
    "# data types\n",
    "df.info()"
   ]
  },
  {
   "cell_type": "markdown",
   "metadata": {},
   "source": [
    "###### All are integer and not null"
   ]
  },
  {
   "cell_type": "code",
   "execution_count": 5,
   "metadata": {},
   "outputs": [
    {
     "data": {
      "text/html": [
       "<div>\n",
       "<style scoped>\n",
       "    .dataframe tbody tr th:only-of-type {\n",
       "        vertical-align: middle;\n",
       "    }\n",
       "\n",
       "    .dataframe tbody tr th {\n",
       "        vertical-align: top;\n",
       "    }\n",
       "\n",
       "    .dataframe thead th {\n",
       "        text-align: right;\n",
       "    }\n",
       "</style>\n",
       "<table border=\"1\" class=\"dataframe\">\n",
       "  <thead>\n",
       "    <tr style=\"text-align: right;\">\n",
       "      <th></th>\n",
       "      <th>user_id</th>\n",
       "      <th>article_id</th>\n",
       "      <th>rating</th>\n",
       "    </tr>\n",
       "  </thead>\n",
       "  <tbody>\n",
       "    <tr>\n",
       "      <td>count</td>\n",
       "      <td>16731.000000</td>\n",
       "      <td>16731.000000</td>\n",
       "      <td>16731.000000</td>\n",
       "    </tr>\n",
       "    <tr>\n",
       "      <td>mean</td>\n",
       "      <td>540.358616</td>\n",
       "      <td>1479.751838</td>\n",
       "      <td>1.453948</td>\n",
       "    </tr>\n",
       "    <tr>\n",
       "      <td>std</td>\n",
       "      <td>304.192076</td>\n",
       "      <td>860.891660</td>\n",
       "      <td>0.992538</td>\n",
       "    </tr>\n",
       "    <tr>\n",
       "      <td>min</td>\n",
       "      <td>1.000000</td>\n",
       "      <td>1.000000</td>\n",
       "      <td>1.000000</td>\n",
       "    </tr>\n",
       "    <tr>\n",
       "      <td>25%</td>\n",
       "      <td>295.000000</td>\n",
       "      <td>728.000000</td>\n",
       "      <td>1.000000</td>\n",
       "    </tr>\n",
       "    <tr>\n",
       "      <td>50%</td>\n",
       "      <td>533.000000</td>\n",
       "      <td>1467.000000</td>\n",
       "      <td>1.000000</td>\n",
       "    </tr>\n",
       "    <tr>\n",
       "      <td>75%</td>\n",
       "      <td>782.000000</td>\n",
       "      <td>2229.500000</td>\n",
       "      <td>1.000000</td>\n",
       "    </tr>\n",
       "    <tr>\n",
       "      <td>max</td>\n",
       "      <td>1087.000000</td>\n",
       "      <td>2976.000000</td>\n",
       "      <td>5.000000</td>\n",
       "    </tr>\n",
       "  </tbody>\n",
       "</table>\n",
       "</div>"
      ],
      "text/plain": [
       "            user_id    article_id        rating\n",
       "count  16731.000000  16731.000000  16731.000000\n",
       "mean     540.358616   1479.751838      1.453948\n",
       "std      304.192076    860.891660      0.992538\n",
       "min        1.000000      1.000000      1.000000\n",
       "25%      295.000000    728.000000      1.000000\n",
       "50%      533.000000   1467.000000      1.000000\n",
       "75%      782.000000   2229.500000      1.000000\n",
       "max     1087.000000   2976.000000      5.000000"
      ]
     },
     "execution_count": 5,
     "metadata": {},
     "output_type": "execute_result"
    }
   ],
   "source": [
    "df.describe()"
   ]
  },
  {
   "cell_type": "code",
   "execution_count": 6,
   "metadata": {},
   "outputs": [
    {
     "data": {
      "text/plain": [
       "user_id       0\n",
       "article_id    0\n",
       "rating        0\n",
       "dtype: int64"
      ]
     },
     "execution_count": 6,
     "metadata": {},
     "output_type": "execute_result"
    }
   ],
   "source": [
    "# missing data\n",
    "df.isnull().sum()\n"
   ]
  },
  {
   "cell_type": "markdown",
   "metadata": {},
   "source": [
    "###### No culmuns has null values"
   ]
  },
  {
   "cell_type": "code",
   "execution_count": 7,
   "metadata": {},
   "outputs": [
    {
     "name": "stdout",
     "output_type": "stream",
     "text": [
      "\"user_id\" has 907 distinct data\n",
      "\"article_id\" has 2529 distinct data\n",
      "\"rating\" has 5 distinct data\n"
     ]
    }
   ],
   "source": [
    "# check for the distinct value for each variables\n",
    "\n",
    "for col in df.columns:\n",
    "    print(f'\"{col}\" has {df[col].nunique()} distinct data')\n"
   ]
  },
  {
   "cell_type": "code",
   "execution_count": 8,
   "metadata": {},
   "outputs": [
    {
     "data": {
      "text/plain": [
       "user_id\n",
       "698     146\n",
       "503     134\n",
       "525     134\n",
       "423     123\n",
       "14      116\n",
       "384     110\n",
       "563     102\n",
       "678      99\n",
       "612      96\n",
       "1038     94\n",
       "Name: rating, dtype: int64"
      ]
     },
     "execution_count": 8,
     "metadata": {},
     "output_type": "execute_result"
    }
   ],
   "source": [
    "# Top 10 users who did most rating\n",
    "df.groupby('user_id').count()['rating'].sort_values(ascending=False)[:10]"
   ]
  },
  {
   "cell_type": "code",
   "execution_count": 9,
   "metadata": {},
   "outputs": [
    {
     "data": {
      "text/plain": [
       "article_id\n",
       "967     122\n",
       "1425     91\n",
       "467      90\n",
       "2660     73\n",
       "1562     71\n",
       "456      69\n",
       "221      64\n",
       "911      61\n",
       "1904     61\n",
       "1433     61\n",
       "Name: rating, dtype: int64"
      ]
     },
     "execution_count": 9,
     "metadata": {},
     "output_type": "execute_result"
    }
   ],
   "source": [
    "# Top 10 rated articles\n",
    "df.groupby('article_id').count()['rating'].sort_values(ascending=False)[:10]"
   ]
  },
  {
   "cell_type": "markdown",
   "metadata": {},
   "source": [
    "## Assignment Questions:\n",
    "### Q1. Which are the top 10 articles based on a rating provided by more than 5% of users in the dataset?"
   ]
  },
  {
   "cell_type": "code",
   "execution_count": 10,
   "metadata": {},
   "outputs": [
    {
     "data": {
      "text/plain": [
       "article_id\n",
       "967     122\n",
       "1425     91\n",
       "467      90\n",
       "2660     73\n",
       "1562     71\n",
       "456      69\n",
       "221      64\n",
       "1433     61\n",
       "911      61\n",
       "1904     61\n",
       "Name: rating, dtype: int64"
      ]
     },
     "execution_count": 10,
     "metadata": {},
     "output_type": "execute_result"
    }
   ],
   "source": [
    "# Five percent of users\n",
    "user_5per = df['user_id'].nunique()*0.05\n",
    "\n",
    "# filtered dataframe where only those record presnt in which atleast 5% of user rated\n",
    "filtered_df = df.groupby(['article_id']).filter(lambda x: len(x) > user_5per)\n",
    "\n",
    "# Now find the top 10 atricles from these filtered\n",
    "filtered_df.groupby(['article_id']).count()['rating'].sort_values(ascending=False)[:10]"
   ]
  },
  {
   "cell_type": "markdown",
   "metadata": {},
   "source": [
    "###### It has slightly different order of articles where no filter is applied but all are same"
   ]
  },
  {
   "cell_type": "markdown",
   "metadata": {},
   "source": [
    "### Q2. Which are the most 10 read articles given that their average rating is above 1.5 "
   ]
  },
  {
   "cell_type": "code",
   "execution_count": 11,
   "metadata": {},
   "outputs": [
    {
     "data": {
      "text/plain": [
       "1636    1921\n",
       "584      693\n",
       "1870    2190\n",
       "1385    1628\n",
       "150      181\n",
       "103      125\n",
       "2017    2366\n",
       "2369    2788\n",
       "199      239\n",
       "1214    1427\n",
       "Name: article_id, dtype: int64"
      ]
     },
     "execution_count": 11,
     "metadata": {},
     "output_type": "execute_result"
    }
   ],
   "source": [
    "# Group the articles based on the mean of rating and then filter\n",
    "filtered_df = df.groupby(['article_id']).mean().reset_index()\n",
    "filtered_df[filtered_df['rating'] > 1.5].sort_values('rating', ascending=False)['article_id'][:10]"
   ]
  },
  {
   "cell_type": "markdown",
   "metadata": {},
   "source": [
    "### Q3. Use the following formulation and identify the top 10 articles based on weighted rating as mentioned"
   ]
  },
  {
   "cell_type": "code",
   "execution_count": 12,
   "metadata": {},
   "outputs": [
    {
     "data": {
      "text/html": [
       "<div>\n",
       "<style scoped>\n",
       "    .dataframe tbody tr th:only-of-type {\n",
       "        vertical-align: middle;\n",
       "    }\n",
       "\n",
       "    .dataframe tbody tr th {\n",
       "        vertical-align: top;\n",
       "    }\n",
       "\n",
       "    .dataframe thead th {\n",
       "        text-align: right;\n",
       "    }\n",
       "</style>\n",
       "<table border=\"1\" class=\"dataframe\">\n",
       "  <thead>\n",
       "    <tr style=\"text-align: right;\">\n",
       "      <th></th>\n",
       "      <th>article_id</th>\n",
       "      <th>W</th>\n",
       "    </tr>\n",
       "  </thead>\n",
       "  <tbody>\n",
       "    <tr>\n",
       "      <td>199</td>\n",
       "      <td>239</td>\n",
       "      <td>3.226974</td>\n",
       "    </tr>\n",
       "    <tr>\n",
       "      <td>1944</td>\n",
       "      <td>2283</td>\n",
       "      <td>3.226974</td>\n",
       "    </tr>\n",
       "    <tr>\n",
       "      <td>107</td>\n",
       "      <td>129</td>\n",
       "      <td>3.151316</td>\n",
       "    </tr>\n",
       "    <tr>\n",
       "      <td>1826</td>\n",
       "      <td>2141</td>\n",
       "      <td>3.151316</td>\n",
       "    </tr>\n",
       "    <tr>\n",
       "      <td>2363</td>\n",
       "      <td>2779</td>\n",
       "      <td>3.113487</td>\n",
       "    </tr>\n",
       "    <tr>\n",
       "      <td>789</td>\n",
       "      <td>931</td>\n",
       "      <td>3.090790</td>\n",
       "    </tr>\n",
       "    <tr>\n",
       "      <td>18</td>\n",
       "      <td>24</td>\n",
       "      <td>2.981579</td>\n",
       "    </tr>\n",
       "    <tr>\n",
       "      <td>617</td>\n",
       "      <td>739</td>\n",
       "      <td>2.981579</td>\n",
       "    </tr>\n",
       "    <tr>\n",
       "      <td>729</td>\n",
       "      <td>861</td>\n",
       "      <td>2.976974</td>\n",
       "    </tr>\n",
       "    <tr>\n",
       "      <td>1774</td>\n",
       "      <td>2079</td>\n",
       "      <td>2.863487</td>\n",
       "    </tr>\n",
       "  </tbody>\n",
       "</table>\n",
       "</div>"
      ],
      "text/plain": [
       "      article_id         W\n",
       "199          239  3.226974\n",
       "1944        2283  3.226974\n",
       "107          129  3.151316\n",
       "1826        2141  3.151316\n",
       "2363        2779  3.113487\n",
       "789          931  3.090790\n",
       "18            24  2.981579\n",
       "617          739  2.981579\n",
       "729          861  2.976974\n",
       "1774        2079  2.863487"
      ]
     },
     "execution_count": 12,
     "metadata": {},
     "output_type": "execute_result"
    }
   ],
   "source": [
    "# Mean of all ratings\n",
    "C = np.mean(df['rating'])\n",
    "# minimum num of ratings it set to default 2\n",
    "m = 2\n",
    "Cm = C*m\n",
    "\n",
    "# create the dataframe which have the mean and number of ratings.\n",
    "agg_df = df.groupby('article_id')['rating'].agg(R=np.mean, v='count').reset_index()\n",
    "\n",
    "# function to calculate the weight against each article\n",
    "def weight_index(row):\n",
    "    return (row['R']*row['v'] + Cm) / (row['v'] + m)\n",
    "\n",
    "# Apply the weight on each row\n",
    "agg_df['W'] = agg_df.apply(weight_index, axis=1)\n",
    "\n",
    "# Get the top 10 article by wieght\n",
    "agg_df.sort_values(by='W', ascending=False)[['article_id', 'W']][:10]"
   ]
  },
  {
   "cell_type": "code",
   "execution_count": null,
   "metadata": {},
   "outputs": [],
   "source": []
  }
 ],
 "metadata": {
  "kernelspec": {
   "display_name": "Python 3",
   "language": "python",
   "name": "python3"
  },
  "language_info": {
   "codemirror_mode": {
    "name": "ipython",
    "version": 3
   },
   "file_extension": ".py",
   "mimetype": "text/x-python",
   "name": "python",
   "nbconvert_exporter": "python",
   "pygments_lexer": "ipython3",
   "version": "3.7.4"
  }
 },
 "nbformat": 4,
 "nbformat_minor": 2
}
